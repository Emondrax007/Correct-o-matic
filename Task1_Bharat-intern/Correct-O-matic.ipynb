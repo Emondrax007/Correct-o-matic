{
 "cells": [
  {
   "cell_type": "code",
   "execution_count": null,
   "metadata": {},
   "outputs": [],
   "source": [
    "from textblob import TextBlob\n",
    "\n",
    "from tkinter import *\n",
    "\n",
    "def Auto_correct():\n",
    "    corrected_words = []\n",
    "    text = Input_text.get(1.0, END).split(\" \")\n",
    "    for i in text:\n",
    "        corrected_words.append(TextBlob(i).correct())\n",
    "    Output_text.delete(1.0, END)\n",
    "    for i in corrected_words:\n",
    "        Output_text.insert(END, i + \" \")\n",
    "\n",
    "\n",
    "def Clear():\n",
    "    Input_text.delete(1.0, END)\n",
    "    Output_text.delete(1.0, END)\n",
    "\n",
    "\n",
    "mainwin = Tk()\n",
    "mainwin.geometry('1400x520')\n",
    "mainwin.resizable(False, False)\n",
    "\n",
    "mainwin.title(\"Auto Correct\")\n",
    "mainwin.config(bg='#82CEC7')\n",
    "\n",
    "Label(mainwin, text=\"Enter Text\", font='arial 18 bold', bg= '#82CEC7').place(x=250, y=90)\n",
    "\n",
    "Input_text = Text(mainwin, font='arial 13', bg='white', height=11, wrap=WORD, padx=5, pady=5, width=50, insertbackground='black')\n",
    "\n",
    "Input_text.place(x=30, y=130)\n",
    "\n",
    "Label(mainwin, text=\"Output\", font='arial 18 bold', bg= '#82CEC7').place(x=1010, y=90)\n",
    "\n",
    "Output_text = Text(mainwin, font='arial 13', bg='white', height=11, wrap=WORD, padx=5, pady=5, width=50, insertbackground='black')\n",
    "\n",
    "Output_text.place(x=750, y=130)\n",
    "\n",
    "auto_correct_btn = Button(mainwin, text=\"Correct\", bg='#36BCB0', width=40, font='arial 18 bold', pady=3, command=Auto_correct)\n",
    "\n",
    "auto_correct_btn.place(x=320, y=440)\n",
    "\n",
    "c1 = Button(mainwin, text=\"Clear\", width=10, pady=3, bg='#36BCB0', font='arial 18 bold', command=Clear)\n",
    "\n",
    "c1.place(x=1170, y=440)\n",
    "\n",
    "mainwin.mainloop()\n"
   ]
  },
  {
   "cell_type": "code",
   "execution_count": null,
   "metadata": {},
   "outputs": [],
   "source": []
  }
 ],
 "metadata": {
  "kernelspec": {
   "display_name": "Python 3",
   "language": "python",
   "name": "python3"
  },
  "language_info": {
   "codemirror_mode": {
    "name": "ipython",
    "version": 3
   },
   "file_extension": ".py",
   "mimetype": "text/x-python",
   "name": "python",
   "nbconvert_exporter": "python",
   "pygments_lexer": "ipython3",
   "version": "3.7.6"
  }
 },
 "nbformat": 4,
 "nbformat_minor": 4
}
